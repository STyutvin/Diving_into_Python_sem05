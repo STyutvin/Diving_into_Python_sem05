{
  "cells": [
    {
      "cell_type": "markdown",
      "metadata": {
        "id": "NaLBbe3VISY8"
      },
      "source": [
        "# Погружение в Python"
      ]
    },
    {
      "cell_type": "markdown",
      "metadata": {
        "id": "8q1jlWQ4MqRj"
      },
      "source": [
        "## Семинар 05"
      ]
    },
    {
      "cell_type": "markdown",
      "metadata": {
        "id": "DqPUKujxMwmD"
      },
      "source": [
        "**Задача 1.**<br>\n",
        "Напишите функцию, которая принимает на вход строку - абсолютный путь до файла. Функция возвращает кортеж из трёх элементов: путь, имя файла, расширение файла."
      ]
    },
    {
      "cell_type": "code",
      "execution_count": 1,
      "metadata": {
        "colab": {
          "base_uri": "https://localhost:8080/"
        },
        "id": "9iuAwGTD9Vwj",
        "outputId": "dfc445a1-cb10-46a2-f69c-3a9a5a628e08"
      },
      "outputs": [
        {
          "data": {
            "text/plain": [
              "('d:\\\\Geek Brains\\\\Сайты', 'minigame', '.html')"
            ]
          },
          "execution_count": 1,
          "metadata": {},
          "output_type": "execute_result"
        }
      ],
      "source": [
        "import os\n",
        "\n",
        "\n",
        "def fragmentation_path(path):\n",
        "  file_name = os.path.basename(path)\n",
        "  only_name_file = os.path.splitext(file_name)[0]\n",
        "  only_extension = os.path.splitext(file_name)[1]\n",
        "  directory_name = os.path.dirname(path)\n",
        "  return (directory_name, only_name_file, only_extension)\n",
        "\n",
        "\n",
        "path = 'd:\\Geek Brains\\Сайты\\minigame.html'\n",
        "fragmentation_path(path)"
      ]
    },
    {
      "cell_type": "markdown",
      "metadata": {
        "id": "Om4nEHmrHnq_"
      },
      "source": [
        "\n",
        "\n",
        "---\n",
        "\n"
      ]
    },
    {
      "cell_type": "markdown",
      "metadata": {
        "id": "RKGeP565VOAZ"
      },
      "source": [
        "**Задача 2.**<br>\n",
        "Напишите однострочный генератор словаря, который принимает на вход три списка одинаковой длины: имена str, ставка int, премия str с указанием процентов вида “10.25%”. В результате получаем словарь с именем в качестве ключа и суммой премии в качестве значения. Сумма рассчитывается как ставка умноженная на процент премии"
      ]
    },
    {
      "cell_type": "code",
      "execution_count": 2,
      "metadata": {
        "colab": {
          "base_uri": "https://localhost:8080/"
        },
        "id": "UxWot3M4VVio",
        "outputId": "68f6bccc-81cf-4e46-cc87-0af0149a5f58"
      },
      "outputs": [
        {
          "name": "stdout",
          "output_type": "stream",
          "text": [
            "{'Билли': 11025.0, 'Боб': 17325.0, 'Торнтон': 24000.0}\n"
          ]
        }
      ],
      "source": [
        "def generate_salary_dict(names_list, salaries_list, bonuses_list):\n",
        "    return {name: salary * (1 + float(bonus.strip('%')) / 100) for name, salary, bonus in zip(names_list, salaries_list, bonuses_list)}\n",
        "\n",
        "names = [\"Билли\", \"Боб\", \"Торнтон\"]\n",
        "salaries = [10000, 15000, 20000]\n",
        "bonuses = [\"10.25%\", \"15.5%\", \"20%\"]\n",
        "\n",
        "salary_dict = generate_salary_dict(names, salaries, bonuses)\n",
        "print(salary_dict)"
      ]
    },
    {
      "cell_type": "markdown",
      "metadata": {
        "id": "gEHJA-oiEp_c"
      },
      "source": [
        "\n",
        "\n",
        "---\n",
        "\n"
      ]
    },
    {
      "cell_type": "markdown",
      "metadata": {
        "id": "iH8C1Tw8WX66"
      },
      "source": [
        "**Задача 3.**<br>\n",
        "Создайте функцию генератор чисел Фибоначчи."
      ]
    },
    {
      "cell_type": "code",
      "execution_count": 3,
      "metadata": {
        "colab": {
          "base_uri": "https://localhost:8080/"
        },
        "id": "DaYc5gRnWd70",
        "outputId": "b9585be5-a393-4167-bd4f-601e6d81df53"
      },
      "outputs": [
        {
          "name": "stdout",
          "output_type": "stream",
          "text": [
            "[0, 1, 1, 2, 3, 5, 8, 13, 21, 34]\n"
          ]
        }
      ],
      "source": [
        "def fib(n):\n",
        "    a, b = 0, 1\n",
        "    for __ in range(n):\n",
        "        yield a\n",
        "        a, b = b, a + b\n",
        "\n",
        "print(list(fib(10)))"
      ]
    }
  ],
  "metadata": {
    "colab": {
      "collapsed_sections": [
        "d_fEhlcxXsHv",
        "pRzyBs4Gbdvm",
        "vsdrvQ4Mavnk",
        "8JTOvEEOrLwN"
      ],
      "provenance": []
    },
    "kernelspec": {
      "display_name": "Python 3",
      "name": "python3"
    },
    "language_info": {
      "codemirror_mode": {
        "name": "ipython",
        "version": 3
      },
      "file_extension": ".py",
      "mimetype": "text/x-python",
      "name": "python",
      "nbconvert_exporter": "python",
      "pygments_lexer": "ipython3",
      "version": "3.10.11"
    }
  },
  "nbformat": 4,
  "nbformat_minor": 0
}
